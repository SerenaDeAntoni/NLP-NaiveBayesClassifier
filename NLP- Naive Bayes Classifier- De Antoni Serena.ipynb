{
 "cells": [
  {
   "cell_type": "markdown",
   "id": "9a72730b",
   "metadata": {},
   "source": [
    "# Natural Language Processing\n",
    "### Assignment 1\n",
    "The assignment consists in the development, in NLTK, OpenNLP, SketchEngine or GATE/Annie a Naïve Bayes Classifier able to detect a single class in one of the corpora available as attachments to the chosen package, by distinguishing ENGLISH against NON-ENGLISH. In particular the classifier has to be:\n",
    "\n",
    "1. Trained on a split subset of the chosen corpus, by either using an existing partition between sample documents for training and for test or by using a random splitter among the available ones;\n",
    "\n",
    "2. Devised as a pipeline of any chosen format, including the simplest version based on word2vec on a list of words obtained by one of the available lexical resources.\n",
    "\n",
    "The test of the classifier shall give out the measures of accuracy, precision, recall on the obtained confusion matrix and WILL NOT BE EVALUATED ON THE LEVEL OF THE PERFORMANCES. In other terms, when the confusion is produced, then the value of the assignment will be good, independently of the percentage of false positive and negative results.\n",
    "\n",
    "Deliver a short set of comments on the experience (do not deliver the entire code, but link it on a public repository like GitHub or the GATE Repo).  \n",
    " Discuss: size of the corpus, size of the split training and test sets, performance indicators employed and their nature, employability of the classifier as a Probabilistic Language Model.\n"
   ]
  },
  {
   "cell_type": "markdown",
   "id": "13d4fc20",
   "metadata": {},
   "source": [
    "### Comments"
   ]
  },
  {
   "cell_type": "markdown",
   "id": "64c3be9c",
   "metadata": {},
   "source": [
    "For this assignment I've chosen english, italian, dutch and finnish corpora from 'Sample European Parliament Proceedings Parallel Corpus' which contain extracts of speeches from the european parliament in different languages. "
   ]
  },
  {
   "cell_type": "markdown",
   "id": "e370e549",
   "metadata": {},
   "source": [
    "In the fist part I analyzed The Naive Bayes Classifier passing it token, and in the second part I analized it passing it sentences.\n",
    "\n",
    "to analyze the size of the corpus: \n",
    "1. in the fist part I have 243416 english tokens and 823843 not english tokens \n",
    "2. in the second part I have 20095 english sentences and 65480 not english sentences"
   ]
  },
  {
   "cell_type": "markdown",
   "id": "c98bf821",
   "metadata": {},
   "source": [
    "### Imports and download"
   ]
  },
  {
   "cell_type": "markdown",
   "id": "afc71f1a",
   "metadata": {},
   "source": [
    "I import all the packages that include corpora, tokenizer, lemmatizer, stemmer and stopwords, string, FreqDist, panda, numpy, random, train_test_split, precision_score, recall_score, accuracy_score, ConfusionMatrixDisplay, f1_score NaiveBayesClassifier and download the chosen corpus"
   ]
  },
  {
   "cell_type": "code",
   "execution_count": 1,
   "id": "7a6dced7",
   "metadata": {},
   "outputs": [],
   "source": [
    "import nltk\n",
    "from nltk.tokenize import sent_tokenize, word_tokenize\n",
    "from nltk.corpus import stopwords\n",
    "import string\n",
    "from nltk.stem import PorterStemmer\n",
    "from nltk.stem import WordNetLemmatizer\n",
    "from nltk import FreqDist\n",
    "import pandas as pd\n",
    "import numpy as np\n",
    "import random\n",
    "from nltk.stem.snowball import SnowballStemmer\n",
    "from nltk import WordNetLemmatizer\n",
    "from sklearn.model_selection import train_test_split\n",
    "from sklearn.metrics import precision_score as PR\n",
    "from sklearn.metrics import recall_score as RC\n",
    "from sklearn.metrics import accuracy_score as ACC\n",
    "from sklearn.metrics import ConfusionMatrixDisplay\n",
    "from nltk import NaiveBayesClassifier\n",
    "from sklearn.metrics import f1_score as f1"
   ]
  },
  {
   "cell_type": "code",
   "execution_count": 2,
   "id": "54f9809e",
   "metadata": {},
   "outputs": [
    {
     "name": "stderr",
     "output_type": "stream",
     "text": [
      "[nltk_data] Downloading package europarl_raw to C:\\nltk_data...\n",
      "[nltk_data]   Package europarl_raw is already up-to-date!\n",
      "[nltk_data] Downloading package stopwords to C:\\nltk_data...\n",
      "[nltk_data]   Package stopwords is already up-to-date!\n"
     ]
    },
    {
     "data": {
      "text/plain": [
       "True"
      ]
     },
     "execution_count": 2,
     "metadata": {},
     "output_type": "execute_result"
    }
   ],
   "source": [
    "nltk.download('europarl_raw')\n",
    "nltk.download(\"stopwords\")"
   ]
  },
  {
   "cell_type": "markdown",
   "id": "cc59d8fc",
   "metadata": {},
   "source": [
    "I import the english, italian, dutch and finnish corpora and join all the words that componed them in one text for each language"
   ]
  },
  {
   "cell_type": "code",
   "execution_count": 3,
   "id": "2147f0f0",
   "metadata": {},
   "outputs": [],
   "source": [
    "from nltk.corpus import europarl_raw\n",
    "testoING = ' '.join(europarl_raw.english.words())\n",
    "testoITA= ' '.join(europarl_raw.italian.words())\n",
    "testoDUTCH= ' '.join(europarl_raw.dutch.words())\n",
    "testoFINNISH= ' '.join(europarl_raw.finnish.words())"
   ]
  },
  {
   "cell_type": "code",
   "execution_count": 4,
   "id": "c5c9b67d",
   "metadata": {},
   "outputs": [],
   "source": [
    "testoING = testoING.lower()\n",
    "testoITA = testoITA.lower()\n",
    "testoDUTCH = testoDUTCH.lower()\n",
    "testoFINNISH = testoFINNISH.lower()"
   ]
  },
  {
   "cell_type": "markdown",
   "id": "998a9437",
   "metadata": {},
   "source": [
    "### Tokens part"
   ]
  },
  {
   "cell_type": "markdown",
   "id": "b6925681",
   "metadata": {},
   "source": [
    "I divide the text of every language in token "
   ]
  },
  {
   "cell_type": "code",
   "execution_count": 5,
   "id": "0b170590",
   "metadata": {},
   "outputs": [],
   "source": [
    "t_wordITA = word_tokenize(testoITA)\n",
    "t_wordING = word_tokenize(testoING)\n",
    "t_wordDUTCH = word_tokenize(testoDUTCH)\n",
    "t_wordFINNISH = word_tokenize(testoFINNISH)"
   ]
  },
  {
   "cell_type": "markdown",
   "id": "8af8b261",
   "metadata": {},
   "source": [
    "I remove the stopwords, the puntuaction and the numbers "
   ]
  },
  {
   "cell_type": "code",
   "execution_count": 6,
   "id": "1a8bcbd2",
   "metadata": {},
   "outputs": [],
   "source": [
    "ST = set(stopwords.words(\"english\")+list(string.punctuation))\n",
    "ST_ita = set(stopwords.words(\"italian\")+list(string.punctuation))\n",
    "ST_dutch = set(stopwords.words(\"dutch\")+list(string.punctuation))\n",
    "ST_finnish = set(stopwords.words(\"finnish\")+list(string.punctuation))"
   ]
  },
  {
   "cell_type": "code",
   "execution_count": 7,
   "id": "476c4dc9",
   "metadata": {},
   "outputs": [],
   "source": [
    "f_ING = [word for word in t_wordING if word not in ST]\n",
    "f_listING = [word for word in f_ING if word.isalpha()]\n",
    "\n",
    "f_ITA = [word for word in t_wordITA if word not in ST_ita]\n",
    "f_listITA = [word for word in f_ITA if word.isalpha()]\n",
    "\n",
    "f_DUTCH = [word for word in t_wordDUTCH if word not in ST_dutch]\n",
    "f_listDUTCH = [word for word in f_DUTCH if word.isalpha()]\n",
    "\n",
    "f_FINNISH = [word for word in t_wordFINNISH if word not in ST_finnish]\n",
    "f_listFINNISH = [word for word in f_FINNISH if word.isalpha()]"
   ]
  },
  {
   "cell_type": "markdown",
   "id": "9c2632ed",
   "metadata": {},
   "source": [
    "I do the stemming of the words"
   ]
  },
  {
   "cell_type": "code",
   "execution_count": 8,
   "id": "9d143eff",
   "metadata": {},
   "outputs": [],
   "source": [
    "stemmer = PorterStemmer()"
   ]
  },
  {
   "cell_type": "code",
   "execution_count": 9,
   "id": "eaee80ec",
   "metadata": {},
   "outputs": [],
   "source": [
    "Pstemmed_wordsING = [stemmer.stem(word) for word in f_listING]\n",
    "Pstemmed_wordsITA = [stemmer.stem(word) for word in f_listITA]\n",
    "Pstemmed_wordsDUTCH = [stemmer.stem(word) for word in f_listDUTCH]\n",
    "Pstemmed_wordsFINNISH = [stemmer.stem(word) for word in f_listFINNISH]"
   ]
  },
  {
   "cell_type": "markdown",
   "id": "637a4f51",
   "metadata": {},
   "source": [
    "I do the lemmatization of the stemmed words"
   ]
  },
  {
   "cell_type": "code",
   "execution_count": 10,
   "id": "abb01665",
   "metadata": {},
   "outputs": [],
   "source": [
    "lemmatizerITA = WordNetLemmatizer()\n",
    "lemmatizerING = WordNetLemmatizer()\n",
    "lemmatizerDUTCH = WordNetLemmatizer()\n",
    "lemmatizerFINNISH = WordNetLemmatizer()\n",
    "\n",
    "Plemmatized_wordsING = [lemmatizerING.lemmatize(a) for a in Pstemmed_wordsING]\n",
    "\n",
    "Plemmatized_wordsITA = [lemmatizerITA.lemmatize(a) for a in Pstemmed_wordsITA]\n",
    "\n",
    "Plemmatized_wordsDUTCH = [lemmatizerDUTCH.lemmatize(a) for a in Pstemmed_wordsDUTCH]\n",
    "\n",
    "Plemmatized_wordsFINNISH = [lemmatizerFINNISH.lemmatize(a) for a in Pstemmed_wordsFINNISH]"
   ]
  },
  {
   "cell_type": "markdown",
   "id": "2d203fc1",
   "metadata": {},
   "source": [
    "I calculate the frequency distribution for each text just processed "
   ]
  },
  {
   "cell_type": "code",
   "execution_count": 11,
   "id": "1a2f8d1c",
   "metadata": {},
   "outputs": [],
   "source": [
    "frequency_distributionING = FreqDist(Plemmatized_wordsING)\n",
    "frequency_distributionITA = FreqDist(Plemmatized_wordsITA)\n",
    "frequency_distributionDUTCH = FreqDist(Plemmatized_wordsDUTCH)\n",
    "frequency_distributionFINNISH = FreqDist(Plemmatized_wordsFINNISH)"
   ]
  },
  {
   "cell_type": "markdown",
   "id": "94bc85e7",
   "metadata": {},
   "source": [
    "I create dataframes"
   ]
  },
  {
   "cell_type": "code",
   "execution_count": 12,
   "id": "41f01142",
   "metadata": {},
   "outputs": [],
   "source": [
    "df_ING = pd.DataFrame(Plemmatized_wordsING)\n",
    "df_ITA = pd.DataFrame(Plemmatized_wordsITA)\n",
    "df_DUTCH = pd.DataFrame(Plemmatized_wordsDUTCH)\n",
    "df_FINNISH = pd.DataFrame(Plemmatized_wordsFINNISH)"
   ]
  },
  {
   "cell_type": "markdown",
   "id": "57f2052f",
   "metadata": {},
   "source": [
    "Every token is labelized with corresponding 'English' or 'Not English' label "
   ]
  },
  {
   "cell_type": "code",
   "execution_count": 13,
   "id": "8b24ba8d",
   "metadata": {},
   "outputs": [],
   "source": [
    "df_ING=df_ING.assign(Expected = 'English')\n",
    "df_ITA=df_ITA.assign(Expected = 'Not English')\n",
    "df_DUTCH=df_DUTCH.assign(Expected = 'Not English')\n",
    "df_FINNISH=df_FINNISH.assign(Expected = 'Not English')"
   ]
  },
  {
   "cell_type": "markdown",
   "id": "183ab75e",
   "metadata": {},
   "source": [
    "I merge all dataframes into one dataframe"
   ]
  },
  {
   "cell_type": "code",
   "execution_count": 14,
   "id": "41344d6e",
   "metadata": {},
   "outputs": [
    {
     "name": "stderr",
     "output_type": "stream",
     "text": [
      "C:\\Users\\Serena\\AppData\\Local\\Temp\\ipykernel_1780\\1910452062.py:1: FutureWarning: The frame.append method is deprecated and will be removed from pandas in a future version. Use pandas.concat instead.\n",
      "  df = df_ING.append(df_ITA)\n",
      "C:\\Users\\Serena\\AppData\\Local\\Temp\\ipykernel_1780\\1910452062.py:2: FutureWarning: The frame.append method is deprecated and will be removed from pandas in a future version. Use pandas.concat instead.\n",
      "  df = df.append(df_DUTCH)\n",
      "C:\\Users\\Serena\\AppData\\Local\\Temp\\ipykernel_1780\\1910452062.py:3: FutureWarning: The frame.append method is deprecated and will be removed from pandas in a future version. Use pandas.concat instead.\n",
      "  df = df.append(df_FINNISH)\n"
     ]
    }
   ],
   "source": [
    "df = df_ING.append(df_ITA)\n",
    "df = df.append(df_DUTCH)\n",
    "df = df.append(df_FINNISH)"
   ]
  },
  {
   "cell_type": "markdown",
   "id": "e5093f97",
   "metadata": {},
   "source": [
    "I shuffle the rows of the dataframe"
   ]
  },
  {
   "cell_type": "code",
   "execution_count": 15,
   "id": "7c2b152b",
   "metadata": {},
   "outputs": [],
   "source": [
    "df = df.sample(frac = 1)"
   ]
  },
  {
   "cell_type": "markdown",
   "id": "6bb05d3f",
   "metadata": {},
   "source": [
    "I create the required dictionary as a parameter from the Naive Bayes Classifier"
   ]
  },
  {
   "cell_type": "code",
   "execution_count": 16,
   "id": "10edbaae",
   "metadata": {},
   "outputs": [],
   "source": [
    "df_list = df.values.tolist()"
   ]
  },
  {
   "cell_type": "code",
   "execution_count": 17,
   "id": "96d79214",
   "metadata": {},
   "outputs": [],
   "source": [
    "new = [[{\"token\":e[0]}, e[1]] for e in df_list]"
   ]
  },
  {
   "cell_type": "markdown",
   "id": "03412145",
   "metadata": {},
   "source": [
    "I splitted my dataset in 70% train and 30% test"
   ]
  },
  {
   "cell_type": "code",
   "execution_count": 18,
   "id": "4783da0a",
   "metadata": {},
   "outputs": [],
   "source": [
    "train, test = train_test_split(new, random_state=104, test_size=0.3, shuffle=True)"
   ]
  },
  {
   "cell_type": "markdown",
   "id": "5759875b",
   "metadata": {},
   "source": [
    "I train the data"
   ]
  },
  {
   "cell_type": "code",
   "execution_count": 19,
   "id": "0af33961",
   "metadata": {},
   "outputs": [],
   "source": [
    "classifier = nltk.NaiveBayesClassifier.train(train) "
   ]
  },
  {
   "cell_type": "code",
   "execution_count": 20,
   "id": "1fd39aaa",
   "metadata": {},
   "outputs": [],
   "source": [
    "pred = []\n",
    "true = []\n",
    "#pred= np.empty(0)\n",
    "for x,y in test:\n",
    "    a = classifier.classify(x)\n",
    "    pred.append(a)\n",
    "    true.append(y)"
   ]
  },
  {
   "cell_type": "code",
   "execution_count": 21,
   "id": "ea06626d",
   "metadata": {},
   "outputs": [],
   "source": [
    "pred_N = []\n",
    "y_true_N = []\n",
    "L = len(pred)\n",
    "for i in range(L):\n",
    "    if pred[i]==\"English\": pred_N.append(1)\n",
    "    else: pred_N.append(0)\n",
    "    if true[i]==\"English\": y_true_N.append(1)\n",
    "    else: y_true_N.append(0)"
   ]
  },
  {
   "cell_type": "markdown",
   "id": "d4faa746",
   "metadata": {},
   "source": [
    "I compute accuracy, precision, recall and F1:\n",
    "\n",
    "**Accuracy :** the ratio of correctly classified items (True positive + True Negative) to the total number of items (True Positive + True Negative + False Positive + False Negative).\n",
    "\n",
    "$$Accuracy\\frac{true positives+true negatives}{true positives+false positives + true negatives + false negatives}$$\n",
    "\n",
    "**Precision :** % of items the system detected (i.e., items the system labeled as positive) that are in fact positive (according to the human gold labels).\n",
    "\n",
    "$$Precision=\\frac{true positives}{true positives+false positives}$$\n",
    "\n",
    "**Recall :**% of items actually present in the input that were correctly identified by the system. \n",
    "\n",
    "$$Recall=\\frac{true positives}{true positives+false negatives}$$\n",
    "\n",
    "**F1 :** the equilibrium between the precision and the recall.\n",
    "\n",
    "$$F1=\\frac{2*Precision*Recall}{Precision+Recall}$$\n",
    "\n",
    "\n"
   ]
  },
  {
   "cell_type": "markdown",
   "id": "57090013",
   "metadata": {},
   "source": [
    "I first calculate the accuracy value with the function from nltk"
   ]
  },
  {
   "cell_type": "code",
   "execution_count": 22,
   "id": "60bae69c",
   "metadata": {},
   "outputs": [
    {
     "name": "stdout",
     "output_type": "stream",
     "text": [
      "Accuracy: 0.969\n"
     ]
    }
   ],
   "source": [
    "print('Accuracy: {:4.3f}'.format(nltk.classify.accuracy(classifier, test))) "
   ]
  },
  {
   "cell_type": "markdown",
   "id": "ccfa898b",
   "metadata": {},
   "source": [
    "after, I use accuracy, precision, recall function from sklearn"
   ]
  },
  {
   "cell_type": "code",
   "execution_count": 23,
   "id": "0b4b716d",
   "metadata": {},
   "outputs": [
    {
     "name": "stdout",
     "output_type": "stream",
     "text": [
      "ACCURACY: 0.9690390970022925\n",
      "PRECISION: 0.9428852920478537\n",
      "RECALL: 0.9196260655895232\n",
      "F1: 0.9311104470558802\n"
     ]
    }
   ],
   "source": [
    "print(f\"ACCURACY: {ACC(y_true_N, pred_N)}\")\n",
    "print(f\"PRECISION: {PR(y_true_N, pred_N)}\")\n",
    "print(f\"RECALL: {RC(y_true_N, pred_N)}\")\n",
    "print(f\"F1: {f1(y_true_N, pred_N)}\")"
   ]
  },
  {
   "cell_type": "markdown",
   "id": "8d1c8766",
   "metadata": {},
   "source": [
    "I compute and display the Confusion Matrix"
   ]
  },
  {
   "cell_type": "code",
   "execution_count": 24,
   "id": "ffbb760a",
   "metadata": {},
   "outputs": [
    {
     "data": {
      "text/plain": [
       "<sklearn.metrics._plot.confusion_matrix.ConfusionMatrixDisplay at 0x1311e491970>"
      ]
     },
     "execution_count": 24,
     "metadata": {},
     "output_type": "execute_result"
    },
    {
     "data": {
      "image/png": "[encoded data removed]",
      "text/plain": [
       "<Figure size 640x480 with 2 Axes>"
      ]
     },
     "metadata": {},
     "output_type": "display_data"
    }
   ],
   "source": [
    "ConfusionMatrixDisplay.from_predictions( true, pred, display_labels=[\"English\", \"Not English\"] )"
   ]
  },
  {
   "cell_type": "markdown",
   "id": "553f1f6b",
   "metadata": {},
   "source": [
    "I create a function that return the percentage of words of our text that is contained in the Snowball dictionary, respect to the length of my text"
   ]
  },
  {
   "cell_type": "code",
   "execution_count": 27,
   "id": "26151e92",
   "metadata": {},
   "outputs": [],
   "source": [
    "def function(diz, text):\n",
    "    count = 0\n",
    "    mancante = 0\n",
    "    lunghezza = len(text)\n",
    "    aux = 0\n",
    "    for i in text:\n",
    "        if i in diz: count+=1\n",
    "    perc_pickup = count/lunghezza\n",
    "    print(perc_pickup)"
   ]
  },
  {
   "cell_type": "markdown",
   "id": "51143884",
   "metadata": {},
   "source": [
    "I test my function with english Snowball dictionary and my english text, I can notate that if I pass at the function the english text the similarity is 90% , if I pass at the function the finnish text the similarity near 1%"
   ]
  },
  {
   "cell_type": "code",
   "execution_count": 29,
   "id": "fe2c2a03",
   "metadata": {},
   "outputs": [],
   "source": [
    "filename = 'C:\\\\Users\\\\Serena\\\\Desktop\\\\UNIVR\\\\NLP\\\\snowball_data\\\\english\\\\output.txt'\n",
    "data = np.loadtxt(filename, delimiter=',', skiprows=1, dtype=str)"
   ]
  },
  {
   "cell_type": "code",
   "execution_count": 30,
   "id": "9dfadd25",
   "metadata": {},
   "outputs": [
    {
     "name": "stdout",
     "output_type": "stream",
     "text": [
      "0.9013704933118611\n"
     ]
    }
   ],
   "source": [
    "function(data,Plemmatized_wordsING)"
   ]
  },
  {
   "cell_type": "code",
   "execution_count": 31,
   "id": "aa820c7f",
   "metadata": {},
   "outputs": [
    {
     "name": "stdout",
     "output_type": "stream",
     "text": [
      "0.016364995169610472\n"
     ]
    }
   ],
   "source": [
    "function(data,Plemmatized_wordsFINNISH)"
   ]
  },
  {
   "cell_type": "markdown",
   "id": "bd7c04c4",
   "metadata": {},
   "source": [
    "### Sentences part"
   ]
  },
  {
   "cell_type": "markdown",
   "id": "c9e41d43",
   "metadata": {},
   "source": [
    "I divide the text of every language in sentences"
   ]
  },
  {
   "cell_type": "code",
   "execution_count": 32,
   "id": "c9c3b947",
   "metadata": {},
   "outputs": [],
   "source": [
    "testo_sentING = sent_tokenize(testoING)\n",
    "testo_sentITA = sent_tokenize(testoITA)\n",
    "testo_sentDUTCH = sent_tokenize(testoDUTCH)\n",
    "testo_sentFINNISH = sent_tokenize(testoFINNISH)"
   ]
  },
  {
   "cell_type": "markdown",
   "id": "2b0fedbe",
   "metadata": {},
   "source": [
    "I tokenize the words for each sentence"
   ]
  },
  {
   "cell_type": "code",
   "execution_count": 33,
   "id": "df0505b2",
   "metadata": {},
   "outputs": [],
   "source": [
    "testo_wordING = [word_tokenize(s) for s in testo_sentING]\n",
    "testo_wordITA = [word_tokenize(s) for s in testo_sentITA]\n",
    "testo_wordDUTCH = [word_tokenize(s) for s in testo_sentDUTCH]\n",
    "testo_wordFINNISH = [word_tokenize(s) for s in testo_sentFINNISH]"
   ]
  },
  {
   "cell_type": "markdown",
   "id": "d4f172f7",
   "metadata": {},
   "source": [
    "I remove stop words, puntuaction and numbers"
   ]
  },
  {
   "cell_type": "code",
   "execution_count": 34,
   "id": "ea412e01",
   "metadata": {},
   "outputs": [],
   "source": [
    "filtered_ING = [[word for word in s if word.casefold() not in ST] for s in testo_wordING]\n",
    "filtered_listING = [[ word for word in s if word.isalpha()]for s in filtered_ING]\n",
    "\n",
    "filtered_ITA = [[word for word in s if word.casefold() not in ST_ita] for s in testo_wordITA]\n",
    "filtered_listITA = [[ word for word in s if word.isalpha()]for s in filtered_ITA]\n",
    "\n",
    "filtered_DUTCH = [[word for word in s if word.casefold() not in ST_dutch] for s in testo_wordDUTCH]\n",
    "filtered_listDUTCH = [[ word for word in s if word.isalpha()]for s in filtered_DUTCH]\n",
    "\n",
    "filtered_FINNISH = [[word for word in s if word.casefold() not in ST_finnish] for s in testo_wordFINNISH]\n",
    "filtered_listFINNISH = [[ word for word in s if word.isalpha()]for s in filtered_FINNISH]"
   ]
  },
  {
   "cell_type": "markdown",
   "id": "d0f52d54",
   "metadata": {},
   "source": [
    "I do stemming and lemmatization"
   ]
  },
  {
   "cell_type": "code",
   "execution_count": 35,
   "id": "466ea8a8",
   "metadata": {},
   "outputs": [],
   "source": [
    "stemmed_wordsING=SnowballStemmer('english')\n",
    "stemmed_wordsITA=SnowballStemmer('italian')\n",
    "stemmed_wordsDUTCH=SnowballStemmer('dutch')\n",
    "stemmed_wordsFINNISH=SnowballStemmer('finnish')"
   ]
  },
  {
   "cell_type": "code",
   "execution_count": 36,
   "id": "f8a0511c",
   "metadata": {},
   "outputs": [],
   "source": [
    "lemmatized_wordsING = WordNetLemmatizer()\n",
    "lemmatized_wordsITA = WordNetLemmatizer()\n",
    "lemmatized_wordsDUTCH = WordNetLemmatizer()\n",
    "lemmatized_wordsFINNISH = WordNetLemmatizer()"
   ]
  },
  {
   "cell_type": "code",
   "execution_count": 37,
   "id": "860c8123",
   "metadata": {},
   "outputs": [],
   "source": [
    "array_sent_tokensING = [[ lemmatized_wordsING.lemmatize(stemmed_wordsING.stem(word)) for word in s ] for s in filtered_listING ]\n",
    "array_sent_tokensITA = [[ lemmatized_wordsITA.lemmatize(stemmed_wordsITA.stem(word)) for word in s ] for s in filtered_listITA ]\n",
    "array_sent_tokensDUTCH = [[ lemmatized_wordsDUTCH.lemmatize(stemmed_wordsDUTCH.stem(word)) for word in s ] for s in filtered_listDUTCH ]\n",
    "array_sent_tokensFINNISH= [[ lemmatized_wordsFINNISH.lemmatize(stemmed_wordsFINNISH.stem(word)) for word in s ] for s in filtered_listFINNISH ]"
   ]
  },
  {
   "cell_type": "code",
   "execution_count": 38,
   "id": "282f385c",
   "metadata": {},
   "outputs": [],
   "source": [
    "english = Plemmatized_wordsING\n",
    "not_english = Plemmatized_wordsITA + Plemmatized_wordsDUTCH + Plemmatized_wordsFINNISH"
   ]
  },
  {
   "cell_type": "markdown",
   "id": "16173c34",
   "metadata": {},
   "source": [
    "I calculate the frequency distribution and create a list of the most 2000 common words"
   ]
  },
  {
   "cell_type": "code",
   "execution_count": 39,
   "id": "ff50b498",
   "metadata": {},
   "outputs": [],
   "source": [
    "frequency_distribution = FreqDist(Plemmatized_wordsING)+FreqDist(Plemmatized_wordsITA)+FreqDist(Plemmatized_wordsDUTCH)"
   ]
  },
  {
   "cell_type": "code",
   "execution_count": 40,
   "id": "8f888b70",
   "metadata": {},
   "outputs": [],
   "source": [
    "most_common = list(frequency_distribution)[:2000]"
   ]
  },
  {
   "cell_type": "markdown",
   "id": "e30340d4",
   "metadata": {},
   "source": [
    "I create a function that return True or False for each word in our sentence if this word is in most common words list"
   ]
  },
  {
   "cell_type": "code",
   "execution_count": 41,
   "id": "44b832dd",
   "metadata": {},
   "outputs": [],
   "source": [
    "def occurrences(sentence):\n",
    "    return {f'contains({word})': (word in set(sentence)) for word in most_common}"
   ]
  },
  {
   "cell_type": "markdown",
   "id": "6eb904bd",
   "metadata": {},
   "source": [
    "I merge all arrays of non-English languages into one array"
   ]
  },
  {
   "cell_type": "code",
   "execution_count": 42,
   "id": "081dd20f",
   "metadata": {},
   "outputs": [],
   "source": [
    "array_sent_non_eng = array_sent_tokensITA + array_sent_tokensDUTCH + array_sent_tokensFINNISH"
   ]
  },
  {
   "cell_type": "markdown",
   "id": "d91eed4e",
   "metadata": {},
   "source": [
    "For create my dataset:\n",
    "1. I attribute the labels = {\"ENGLISH\": 1, \"NON-ENGLISH\": 0}\n",
    "2. I create two arrays in which in one is contained as many ones as the length of english preprocessed text and in the other is contained as many zeros as the length of not english preprocessed texts\n",
    "3. I create two arrays using occurences(sentence) function for each phrase in my array of tokenized sentences\n",
    "4. I create my two datasets (english_dataset and not_english_dataset) merging the two vectors just create in a dictionary "
   ]
  },
  {
   "cell_type": "code",
   "execution_count": 43,
   "id": "415a2a53",
   "metadata": {},
   "outputs": [],
   "source": [
    "label_one = [1] * len(english)\n",
    "occurrences_eng = [occurrences(p) for p in array_sent_tokensING]\n",
    "english_dataset= list(zip(occurrences_eng, label_one))"
   ]
  },
  {
   "cell_type": "code",
   "execution_count": 44,
   "id": "64556150",
   "metadata": {},
   "outputs": [],
   "source": [
    "label_zero = [0] * len(not_english)\n",
    "occurrences_not_eng = [occurrences(p) for p in array_sent_non_eng]\n",
    "not_english_dataset= list(zip(occurrences_not_eng, label_zero))"
   ]
  },
  {
   "cell_type": "markdown",
   "id": "58df3393",
   "metadata": {},
   "source": [
    "I merge all dataset into one dataset"
   ]
  },
  {
   "cell_type": "code",
   "execution_count": 45,
   "id": "b4f7fb31",
   "metadata": {},
   "outputs": [],
   "source": [
    "dataset=english_dataset+not_english_dataset"
   ]
  },
  {
   "cell_type": "markdown",
   "id": "417ca452",
   "metadata": {},
   "source": [
    "I shuffle my dataset"
   ]
  },
  {
   "cell_type": "code",
   "execution_count": 46,
   "id": "af6af504",
   "metadata": {},
   "outputs": [],
   "source": [
    "random.shuffle(dataset)"
   ]
  },
  {
   "cell_type": "markdown",
   "id": "8468b1ef",
   "metadata": {},
   "source": [
    "I splitted my dataset in 70% train and 30% test"
   ]
  },
  {
   "cell_type": "code",
   "execution_count": 47,
   "id": "ebe2c0cb",
   "metadata": {},
   "outputs": [],
   "source": [
    "X_train, X_test = train_test_split(dataset, random_state=104, test_size=0.3, shuffle=True)"
   ]
  },
  {
   "cell_type": "markdown",
   "id": "18fd32eb",
   "metadata": {},
   "source": [
    " I train the datas"
   ]
  },
  {
   "cell_type": "code",
   "execution_count": 48,
   "id": "f94ef971",
   "metadata": {},
   "outputs": [],
   "source": [
    "classifier = nltk.NaiveBayesClassifier.train(X_train) "
   ]
  },
  {
   "cell_type": "code",
   "execution_count": 49,
   "id": "6472d3c9",
   "metadata": {},
   "outputs": [],
   "source": [
    "y_pred = [classifier.classify(f) for (f, label) in X_test]\n",
    "y_true = [label for (f, label) in X_test]"
   ]
  },
  {
   "cell_type": "markdown",
   "id": "221e03a3",
   "metadata": {},
   "source": [
    "I compute accuracy, precision, recall and F1:"
   ]
  },
  {
   "cell_type": "code",
   "execution_count": 50,
   "id": "b61e7746",
   "metadata": {},
   "outputs": [
    {
     "name": "stdout",
     "output_type": "stream",
     "text": [
      "ACCURACY: 0.9915864916449187\n",
      "PRECISION: 0.9989762839105955\n",
      "RECALL: 0.9653751030502885\n",
      "F1: 0.9818883112527251\n"
     ]
    }
   ],
   "source": [
    "print(f\"ACCURACY: {ACC(y_true, y_pred)}\")\n",
    "print(f\"PRECISION: {PR(y_true, y_pred)}\")\n",
    "print(f\"RECALL: {RC(y_true, y_pred)}\")\n",
    "print(f\"F1: {f1(y_true, y_pred)}\")"
   ]
  },
  {
   "cell_type": "markdown",
   "id": "3a73d26e",
   "metadata": {},
   "source": [
    "I calculate the accuracy value with the function from nltk"
   ]
  },
  {
   "cell_type": "code",
   "execution_count": 51,
   "id": "15c83468",
   "metadata": {},
   "outputs": [
    {
     "name": "stdout",
     "output_type": "stream",
     "text": [
      "Accuracy: 0.992\n"
     ]
    }
   ],
   "source": [
    "print('Accuracy: {:4.3f}'.format(nltk.classify.accuracy(classifier, X_test))) "
   ]
  },
  {
   "cell_type": "markdown",
   "id": "aec74642",
   "metadata": {},
   "source": [
    "I compute and display the Confusion Matrix"
   ]
  },
  {
   "cell_type": "code",
   "execution_count": 52,
   "id": "89a85398",
   "metadata": {},
   "outputs": [
    {
     "data": {
      "text/plain": [
       "<sklearn.metrics._plot.confusion_matrix.ConfusionMatrixDisplay at 0x135d6eadb80>"
      ]
     },
     "execution_count": 52,
     "metadata": {},
     "output_type": "execute_result"
    },
    {
     "data": {
      "image/png": "[encoded data removed]",
      "text/plain": [
       "<Figure size 640x480 with 2 Axes>"
      ]
     },
     "metadata": {},
     "output_type": "display_data"
    }
   ],
   "source": [
    "from sklearn.metrics import ConfusionMatrixDisplay\n",
    "\n",
    "ConfusionMatrixDisplay.from_predictions(y_true, y_pred, display_labels=[\"English\", \"Not English\"])"
   ]
  },
  {
   "cell_type": "markdown",
   "id": "e8726add",
   "metadata": {},
   "source": [
    "### Answers"
   ]
  },
  {
   "cell_type": "markdown",
   "id": "b043db84",
   "metadata": {},
   "source": [
    "1. Size of the corpus, size of the split training and test sets: \n",
    "    I select 4 corpora: english, italian, dutch and finnish\n",
    "    the classifier analizes in the first part tokens and in the second part sentences:\n",
    "    - in the fist part I have 243416 english tokens and 823843 not english tokens \n",
    "    - in the second part I have 20095 english sentences and 65480 not english sentences\n",
    "    I I splitted my dataset in 70% train and 30% test\n",
    "2. Performance indicators employed and their nature:  F1 studies the equilibrium between the precision and the recall, so\n",
    "    it is the best metric to understand the performance of a model in classification problems: \n",
    "3. Employability of the classifier as a Probabilistic Language Model: The classifier return reliable result. \n",
    "    My Naive Bayes Classifier is now able to classify:\n",
    "    - in the fist case the probability of token to belong to an 'ENGLSH' or to a 'NON ENGLISH' class\n",
    "    - in the second case the probability of sentence to belong to an 'ENGLSH' or to a 'NON ENGLISH' class.  \n",
    "During training phase it learns the most common words belong to each class and with testing it calculates:\n",
    "    - in the first case the probability that a token is in one class instead the other.\n",
    "    - in the first case the probability that a sentence is in one class instead the other."
   ]
  },
  {
   "cell_type": "code",
   "execution_count": null,
   "id": "d8930466",
   "metadata": {},
   "outputs": [],
   "source": []
  }
 ],
 "metadata": {
  "kernelspec": {
   "display_name": "Python 3 (ipykernel)",
   "language": "python",
   "name": "python3"
  },
  "language_info": {
   "codemirror_mode": {
    "name": "ipython",
    "version": 3
   },
   "file_extension": ".py",
   "mimetype": "text/x-python",
   "name": "python",
   "nbconvert_exporter": "python",
   "pygments_lexer": "ipython3",
   "version": "3.9.12"
  }
 },
 "nbformat": 4,
 "nbformat_minor": 5
}
